{
 "cells": [
  {
   "cell_type": "markdown",
   "metadata": {},
   "source": [
    "## Part 1\n",
    "### Counting\n",
    "<pre>\n",
    " Given a list of urls, print out the top 3 frequent filenames.\n",
    "ex.\n",
    " Given\n",
    "urls = [\n",
    "\"http://www.google.com/a.txt\",\n",
    "\"http://www.google.com.tw/a.txt\",\n",
    "\"http://www.google.com/download/c.jpg\",\n",
    "\"http://www.google.co.jp/a.txt\",\n",
    "\"http://www.google.com/b.txt\",\n",
    "\"https://facebook.com/movie/b.txt\",\n",
    "\"http://yahoo.com/123/000/c.jpg\",\n",
    "\"http://gliacloud.com/haha.png\",\n",
    "]\n",
    "</pre>\n",
    "The program should print out\n",
    "\n",
    "a.txt 3\n",
    "b.txt 2\n",
    "c.jpg 2"
   ]
  },
  {
   "cell_type": "code",
   "execution_count": null,
   "metadata": {},
   "outputs": [],
   "source": [
    "urls = [\"http://www.google.com/a.txt\",\n",
    "\"http://www.google.com.tw/a.txt\",\n",
    "\"http://www.google.com/download/c.jpg\",\n",
    "\"http://www.google.co.jp/a.txt\",\n",
    "\"http://www.google.com/b.txt\",\n",
    "\"https://facebook.com/movie/b.txt\",\n",
    "\"http://yahoo.com/123/000/c.jpg\",\n",
    "\"http://gliacloud.com/haha.png\",]"
   ]
  },
  {
   "cell_type": "code",
   "execution_count": 3,
   "metadata": {},
   "outputs": [
    {
     "name": "stdout",
     "output_type": "stream",
     "text": [
      "a.txt 3\n",
      "c.jpg 2\n",
      "b.txt 2\n"
     ]
    }
   ],
   "source": [
    "from collections import Counter\n",
    "count = Counter([ url.split(\"/\")[-1] for url in urls ])\n",
    "for i,v in enumerate(count.most_common(3)):\n",
    "    print(\"{} {}\".format(v[0],v[1]))"
   ]
  },
  {
   "cell_type": "markdown",
   "metadata": {},
   "source": [
    "## Integration\n",
    "<pre>\n",
    "def anonymous(x):\n",
    "    return x**2 + 1\n",
    "def integrate(fun, start, end):\n",
    "    step = 0.1\n",
    "    intercept = start\n",
    "    area = 0\n",
    "    while intercept < end:\n",
    "        intercept += step\n",
    "        ''' your work here '''\n",
    "    return area\n",
    "</pre>\n",
    "print(integrate(anonymous, 0, 10))\n",
    "-----\n",
    "Multiples of 3 and 5.\n",
    "If we list all the natural numbers below 10 that are multiples of 3 or 5, we get 3, 5, 6 and 9.\n",
    "The sum of these multiples is 23.\n",
    "• Find the sum of all the multiples of 3 or 5 below 1000."
   ]
  },
  {
   "cell_type": "code",
   "execution_count": 3,
   "metadata": {},
   "outputs": [
    {
     "name": "stdout",
     "output_type": "stream",
     "text": [
      "117332\n"
     ]
    }
   ],
   "source": [
    "def anonymous(x):\n",
    "    return x%3 ==0 or x%5 ==0 # 只回傳 整除3  整除4 的list\n",
    "def integrate(fun, start, end):\n",
    "    step = 1\n",
    "    intercept = start \n",
    "    area = 0\n",
    "    while intercept < end:\n",
    "        intercept += step\n",
    "        if fun(intercept) :\n",
    "            area += intercept  \n",
    "        intercept += step\n",
    "    return area\n",
    "print(integrate(anonymous, 0, 1000))"
   ]
  },
  {
   "cell_type": "markdown",
   "metadata": {},
   "source": [
    "## Part 2\n",
    "<pre>\n",
    "請以下題目擇一\n",
    "a) 請用 Python 寫出一個可以爬 ptt /reddit 任意看板（https://www.ptt.cc ）的爬蟲\n",
    "程式，可以使用任意 Python 套件\n",
    "以下欄位為必要\n",
    "• 日期\n",
    "• 作者\n",
    "• 標題\n",
    "• 內文\n",
    "• 看板名稱\n",
    "</pre>"
   ]
  },
  {
   "cell_type": "code",
   "execution_count": null,
   "metadata": {},
   "outputs": [],
   "source": [
    "import requests\n",
    "from bs4 import BeautifulSoup\n",
    "import lxml\n",
    "import random \n",
    "import collections\n",
    "# twice 1-308 \n",
    "page = random.randint(1,308)\n",
    "url = \"https://www.ptt.cc/bbs/TWICE/index{}.html\".format(str(page))\n",
    "base = \"https://www.ptt.cc\"\n",
    "r = requests.get(url)\n",
    "soup = BeautifulSoup(r.text,\"lxml\")"
   ]
  },
  {
   "cell_type": "code",
   "execution_count": null,
   "metadata": {},
   "outputs": [],
   "source": [
    "dicts = []\n",
    "for div in divs:\n",
    "    content = div.find(class_=\"title\").find(\"a\")[\"href\"] \n",
    "    req = requests.get(base+content)\n",
    "    if req.status_code == 200 :\n",
    "        result = collections.defaultdict()\n",
    "        soup2 = BeautifulSoup(req.text,\"lxml\")\n",
    "        tag = soup2.find_all(class_=\"article-meta-value\")\n",
    "\n",
    "        if tag :\n",
    "            result[\"author\"] = tag[0].text\n",
    "            result[\"clf\"] = tag[1].text\n",
    "            result[\"title\"]  = tag[2].text\n",
    "            result[\"date\"] = tag[3].text\n",
    "            dicts.append(result)\n",
    "\n",
    "print(dicts)"
   ]
  },
  {
   "cell_type": "code",
   "execution_count": null,
   "metadata": {},
   "outputs": [],
   "source": []
  },
  {
   "cell_type": "code",
   "execution_count": null,
   "metadata": {},
   "outputs": [],
   "source": []
  },
  {
   "cell_type": "code",
   "execution_count": null,
   "metadata": {},
   "outputs": [],
   "source": []
  },
  {
   "cell_type": "code",
   "execution_count": null,
   "metadata": {},
   "outputs": [],
   "source": []
  },
  {
   "cell_type": "code",
   "execution_count": null,
   "metadata": {},
   "outputs": [],
   "source": []
  },
  {
   "cell_type": "code",
   "execution_count": null,
   "metadata": {},
   "outputs": [],
   "source": []
  },
  {
   "cell_type": "code",
   "execution_count": null,
   "metadata": {},
   "outputs": [],
   "source": []
  },
  {
   "cell_type": "code",
   "execution_count": null,
   "metadata": {},
   "outputs": [],
   "source": []
  },
  {
   "cell_type": "code",
   "execution_count": null,
   "metadata": {},
   "outputs": [],
   "source": []
  },
  {
   "cell_type": "code",
   "execution_count": null,
   "metadata": {},
   "outputs": [],
   "source": []
  },
  {
   "cell_type": "code",
   "execution_count": null,
   "metadata": {},
   "outputs": [],
   "source": []
  },
  {
   "cell_type": "code",
   "execution_count": null,
   "metadata": {},
   "outputs": [],
   "source": []
  },
  {
   "cell_type": "code",
   "execution_count": null,
   "metadata": {},
   "outputs": [],
   "source": []
  }
 ],
 "metadata": {
  "kernelspec": {
   "display_name": "Python 3",
   "language": "python",
   "name": "python3"
  },
  "language_info": {
   "codemirror_mode": {
    "name": "ipython",
    "version": 3
   },
   "file_extension": ".py",
   "mimetype": "text/x-python",
   "name": "python",
   "nbconvert_exporter": "python",
   "pygments_lexer": "ipython3",
   "version": "3.6.3"
  }
 },
 "nbformat": 4,
 "nbformat_minor": 2
}
