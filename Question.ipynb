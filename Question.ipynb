{
 "cells": [
  {
   "cell_type": "markdown",
   "metadata": {},
   "source": [
    "## Part 1\n",
    "### Counting\n",
    "<pre>\n",
    " Given a list of urls, print out the top 3 frequent filenames.\n",
    "ex.\n",
    " Given\n",
    "urls = [\n",
    "\"http://www.google.com/a.txt\",\n",
    "\"http://www.google.com.tw/a.txt\",\n",
    "\"http://www.google.com/download/c.jpg\",\n",
    "\"http://www.google.co.jp/a.txt\",\n",
    "\"http://www.google.com/b.txt\",\n",
    "\"https://facebook.com/movie/b.txt\",\n",
    "\"http://yahoo.com/123/000/c.jpg\",\n",
    "\"http://gliacloud.com/haha.png\",\n",
    "]\n",
    "</pre>\n",
    "The program should print out\n",
    "\n",
    "a.txt 3\n",
    "b.txt 2\n",
    "c.jpg 2"
   ]
  },
  {
   "cell_type": "code",
   "execution_count": null,
   "metadata": {},
   "outputs": [],
   "source": [
    "urls = [\"http://www.google.com/a.txt\",\n",
    "\"http://www.google.com.tw/a.txt\",\n",
    "\"http://www.google.com/download/c.jpg\",\n",
    "\"http://www.google.co.jp/a.txt\",\n",
    "\"http://www.google.com/b.txt\",\n",
    "\"https://facebook.com/movie/b.txt\",\n",
    "\"http://yahoo.com/123/000/c.jpg\",\n",
    "\"http://gliacloud.com/haha.png\",]"
   ]
  },
  {
   "cell_type": "code",
   "execution_count": 3,
   "metadata": {},
   "outputs": [
    {
     "name": "stdout",
     "output_type": "stream",
     "text": [
      "a.txt 3\n",
      "c.jpg 2\n",
      "b.txt 2\n"
     ]
    }
   ],
   "source": [
    "from collections import Counter\n",
    "count = Counter([ url.split(\"/\")[-1] for url in urls ])\n",
    "for i,v in enumerate(count.most_common(3)):\n",
    "    print(\"{} {}\".format(v[0],v[1]))"
   ]
  },
  {
   "cell_type": "markdown",
   "metadata": {},
   "source": [
    "## Integration\n",
    "<pre>\n",
    "def anonymous(x):\n",
    "    return x**2 + 1\n",
    "def integrate(fun, start, end):\n",
    "    step = 0.1\n",
    "    intercept = start\n",
    "    area = 0\n",
    "    while intercept < end:\n",
    "        intercept += step\n",
    "        ''' your work here '''\n",
    "    return area\n",
    "</pre>\n",
    "print(integrate(anonymous, 0, 10))\n",
    "-----\n",
    "Multiples of 3 and 5.\n",
    "If we list all the natural numbers below 10 that are multiples of 3 or 5, we get 3, 5, 6 and 9.\n",
    "The sum of these multiples is 23.\n",
    "• Find the sum of all the multiples of 3 or 5 below 1000."
   ]
  },
  {
   "cell_type": "code",
   "execution_count": 3,
   "metadata": {},
   "outputs": [
    {
     "name": "stdout",
     "output_type": "stream",
     "text": [
      "117332\n"
     ]
    }
   ],
   "source": [
    "def anonymous(x):\n",
    "    return x%3 ==0 or x%5 ==0 # 只回傳 整除3  整除4 \n",
    "def integrate(fun, start, end):\n",
    "    step = 1\n",
    "    intercept = start \n",
    "    area = 0\n",
    "    while intercept < end:\n",
    "        intercept += step\n",
    "        if fun(intercept) :\n",
    "            area += intercept  \n",
    "        intercept += step\n",
    "    return area\n",
    "print(integrate(anonymous, 0, 1000))"
   ]
  },
  {
   "cell_type": "markdown",
   "metadata": {},
   "source": [
    "## Part 2\n",
    "<pre>\n",
    "請以下題目擇一\n",
    "a) 請用 Python 寫出一個可以爬 ptt /reddit 任意看板（https://www.ptt.cc ）的爬蟲\n",
    "程式，可以使用任意 Python 套件\n",
    "以下欄位為必要\n",
    "• 日期\n",
    "• 作者\n",
    "• 標題\n",
    "• 內文\n",
    "• 看板名稱\n",
    "\n",
    "b) 請用 python 寫出一個簡單的網頁，只需要一個頁面 每次瀏覽時隨機出現 the\n",
    "zen of python 其中一條\n",
    "http://wiki.python.org.tw/The%20Zen%20Of%20Python\n",
    "</pre>"
   ]
  },
  {
   "cell_type": "code",
   "execution_count": 6,
   "metadata": {},
   "outputs": [],
   "source": [
    "import requests\n",
    "from bs4 import BeautifulSoup\n",
    "import lxml\n",
    "import random \n",
    "import collections\n",
    "# twice 1-308 \n",
    "page = random.randint(1,308)\n",
    "url = \"https://www.ptt.cc/bbs/TWICE/index{}.html\".format(str(page))\n",
    "base = \"https://www.ptt.cc\"\n",
    "r = requests.get(url)\n",
    "soup = BeautifulSoup(r.text,\"lxml\")\n",
    "divs = soup.find_all(class_ =\"r-ent\")\n",
    "                     "
   ]
  },
  {
   "cell_type": "code",
   "execution_count": 7,
   "metadata": {},
   "outputs": [
    {
     "name": "stdout",
     "output_type": "stream",
     "text": [
      "[defaultdict(None, {'author': 'sayeki (Chi)', 'clf': 'TWICE', 'title': '[分享] #TWICE 初回限定盤A 開箱', 'date': 'Mon Jul  3 00:30:30 2017'}), defaultdict(None, {'author': 'gn01914120 (Wow)', 'clf': 'TWICE', 'title': 'Re: [分享] 日本出道SC二部後記', 'date': 'Mon Jul  3 00:45:44 2017'}), defaultdict(None, {'author': 'taki121 (Taki)', 'clf': 'TWICE', 'title': '[新聞] TWICE DEBUT SHOWCASE modelpress報導', 'date': 'Mon Jul  3 01:18:02 2017'}), defaultdict(None, {'author': 'kuramylove ()', 'clf': 'TWICE', 'title': '[公告] #TWICE 日專小卡交換區', 'date': 'Mon Jul  3 01:21:14 2017'}), defaultdict(None, {'author': 'maverick007 (澹臺滅明)', 'clf': 'TWICE', 'title': '[分享] #TWICE 初回限定盤AB普版 開箱', 'date': 'Mon Jul  3 15:12:52 2017'}), defaultdict(None, {'author': 'd00687 (DADA)', 'clf': 'TWICE', 'title': '[影音] 170703 TWICE TV5 EP.19', 'date': 'Mon Jul  3 17:00:03 2017'}), defaultdict(None, {'author': 'senhsiang (senhsiang is sunshine)', 'clf': 'TWICE', 'title': '[影音] 兩則日本早晨新聞節目報導TWICE 中字', 'date': 'Mon Jul  3 17:36:44 2017'}), defaultdict(None, {'author': 'kk9430167 (NJMSJMDCT)', 'clf': 'TWICE', 'title': 'Fw: [影音] 170702 MBC 蒙面歌王 E118 中字', 'date': 'Mon Jul  3 18:19:04 2017'}), defaultdict(None, {'author': 'kk9430167 (NJMSJMDCT)', 'clf': 'TWICE', 'title': 'Fw: [影音] 170702 SBS Fantastic Duo2 E14 中字', 'date': 'Mon Jul  3 18:45:02 2017'}), defaultdict(None, {'author': 'monmo (Gentleman monmo)', 'clf': 'TWICE', 'title': '[分享] 日本出道的TwiceMania', 'date': 'Mon Jul  3 18:51:20 2017'}), defaultdict(None, {'author': 'HowWhy99 (better to better)', 'clf': 'TWICE', 'title': '[公告] 水桶', 'date': 'Mon Jul  3 19:47:00 2017'}), defaultdict(None, {'author': 'ruliu327 ()', 'clf': 'TWICE', 'title': '[社群] 170702-03 TWICE IG/twitter更新', 'date': 'Mon Jul  3 20:42:51 2017'}), defaultdict(None, {'author': 'n09142 (weketa)', 'clf': 'TWICE', 'title': '[分享] #Twice 初回A&B amazon到貨!', 'date': 'Mon Jul  3 21:50:54 2017'}), defaultdict(None, {'author': 'johnny199699 (JoshuaChang)', 'clf': 'TWICE', 'title': '[分享] 圖多腎入！#TWICE A&B初回開箱', 'date': 'Mon Jul  3 22:13:30 2017'}), defaultdict(None, {'author': 'gath0617 (潛水中)', 'clf': 'TWICE', 'title': '[情報] TWICE 七月份行程表 & 資訊彙整區', 'date': 'Mon Jul  3 22:35:26 2017'}), defaultdict(None, {'author': 'kk9430167 (NJMSJMDCT)', 'clf': 'TWICE', 'title': '[情報] TWICE 1st PHOTOBOOK ONE IN A MILLION', 'date': 'Mon Jul  3 23:01:27 2017'}), defaultdict(None, {'author': 'ksdexter (吉利吉利吉利)', 'clf': 'TWICE', 'title': '[分享] JAPAN DEBUT SHOWCASE 周邊', 'date': 'Mon Jul  3 23:43:19 2017'}), defaultdict(None, {'author': 'andthen123 (怒吃雞塊)', 'clf': 'TWICE', 'title': '[閒聊] 彩瑛的穿搭參考', 'date': 'Tue Jul  4 00:59:45 2017'}), defaultdict(None, {'author': 'tycousin (樓上表弟)', 'clf': 'TWICE', 'title': '[影音] 170629 LINELIVE #將TWICE擴散吧 日本出道紀念 中字', 'date': 'Tue Jul  4 10:58:08 2017'}), defaultdict(None, {'author': 'chris120223 (nimei)', 'clf': 'TWICE', 'title': '[閒聊] 聽TWICE學韓文', 'date': 'Tue Jul  4 15:44:57 2017'})]\n"
     ]
    }
   ],
   "source": [
    "dicts = []\n",
    "for div in divs:\n",
    "    content = div.find(class_=\"title\").find(\"a\")[\"href\"] \n",
    "    req = requests.get(base+content)\n",
    "    if req.status_code == 200 :\n",
    "        result = collections.defaultdict()\n",
    "        soup2 = BeautifulSoup(req.text,\"lxml\")\n",
    "        tag = soup2.find_all(class_=\"article-meta-value\")\n",
    "        if tag :\n",
    "            result[\"author\"] = tag[0].text\n",
    "            result[\"clf\"] = tag[1].text\n",
    "            result[\"title\"]  = tag[2].text\n",
    "            result[\"date\"] = tag[3].text\n",
    "            dicts.append(result)\n",
    "\n",
    "print(dicts)"
   ]
  },
  {
   "cell_type": "code",
   "execution_count": null,
   "metadata": {},
   "outputs": [],
   "source": []
  },
  {
   "cell_type": "code",
   "execution_count": null,
   "metadata": {},
   "outputs": [],
   "source": []
  }
 ],
 "metadata": {
  "kernelspec": {
   "display_name": "Python 3",
   "language": "python",
   "name": "python3"
  },
  "language_info": {
   "codemirror_mode": {
    "name": "ipython",
    "version": 3
   },
   "file_extension": ".py",
   "mimetype": "text/x-python",
   "name": "python",
   "nbconvert_exporter": "python",
   "pygments_lexer": "ipython3",
   "version": "3.6.3"
  }
 },
 "nbformat": 4,
 "nbformat_minor": 2
}
